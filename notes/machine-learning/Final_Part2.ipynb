{
 "cells": [
  {
   "cell_type": "markdown",
   "metadata": {},
   "source": [
    "#  DS3000A/9000A \n",
    "\n",
    "# Final Exam – Part 2 (60 pts)\n",
    "\n",
    "### Student Name: David Tran\n",
    "### Student ID: 251169871\n",
    "\n",
    "## General\n",
    "This part of the exam is **Open Book** and you will answer to the programming questions below on this Jupyter Notebook. You have **2 hours (3:00 pm - 5:00 pm)** to finish the exam and upload your notebook on OWL. \n",
    "* You **are allowed** to use any document and sources on your computer and look up documents on the internet. **You need to cite any code that you use if it is NOT from the course Labs or Tutorial examples**.\n",
    "* You or **NOT allowed** to share documents, or communicate in any other way with people inside/outside of the exam room during the final. Using AI chatbots is **NOT allowed and will be counted as cheating or plagiarism**.\n",
    "* All Figures should have a x-axis and y-axis label.\n",
    "* Add as many cells as you want, whenever you need to. \n",
    "* To finish the exam in the alloted time, you will have to work efficiently. You need to submit the exam Jupyter Notebook by the **due date (Dec 12, 2023 at 5:00 pm)** on **OWL in the Assignments / Final Exam - Part 2** where you downloaded the Dataset and Jupyter Notebook. **Late submission will be scored with 0 pts, unless you have received special accommodations. To avoid technical difficulties, start your submission at latest five to ten minutes before the deadline. To be sure, you can also submit multiple versions - only the latest version will be graded. \n",
    "\n",
    "**Ensure that your code runs correctly by choosing \"Kernel -> Restart and Run All\" before submitting.**\n",
    "\n",
    "### Additional Guidance\n",
    "\n",
    "If at any point you are not sure about the answer, then *write your assumptions clearly in your exam and proceed according to those assumptions.*\n",
    "\n",
    "Good luck!"
   ]
  },
  {
   "cell_type": "code",
   "execution_count": 1,
   "metadata": {},
   "outputs": [],
   "source": [
    "## Preliminaries\n",
    "### YOU MAY ADD ADDITIONAL IMPORTS IF YOU WISH\n",
    "import matplotlib.pyplot as plt \n",
    "%matplotlib inline\n",
    "\n",
    "import pandas as pd \n",
    "import numpy as np\n",
    "import seaborn as sns\n",
    "\n",
    "from sklearn.model_selection import train_test_split, GridSearchCV\n",
    "from sklearn.preprocessing import StandardScaler\n",
    "from sklearn.linear_model import LinearRegression, LogisticRegression, Ridge, Lasso, LassoCV\n",
    "from sklearn.ensemble import RandomForestClassifier\n",
    "from sklearn.metrics import mean_squared_error, accuracy_score, f1_score, confusion_matrix, roc_curve, auc, roc_auc_score\n",
    "\n",
    "import time\n"
   ]
  },
  {
   "cell_type": "markdown",
   "metadata": {},
   "source": [
    "## Dataset\n",
    "In this exam, we will work on the network anomaly detection dataset \"IP_Activity_Dataset_5000.csv\". It was generated from web server access logs and collected from a real-world website in Content Delivery Networks (CDNs). Each sample/row in the dataset represents a unique Internet Protocol (IP) address with 9 columns/variables. Each feature/column is a performance indicator that reflect the state or activity of each sample/IP. The IP addresses were masked due to privacy reasons.  \n",
    "\n",
    "### Variables/Features\n",
    "Feature description: \n",
    "1.\t**requests**: the number of requests sent by per IP.\n",
    "2.\t**request-interval**:  the average time interval between consecutive requests sent by per IP. Unit: milliseconds\n",
    "3.\t**request-popularity**: what percentage of the requests sent by per IP are for popular contents.\n",
    "4.\t**bytes**: the average bytes received by per IP after requesting the content.\n",
    "5.\t**delivery-time**: the average request delivery time experienced by per IP. Unit: milliseconds\n",
    "6.\t**hit-rate**: cache hit rate of per IP.\n",
    "7.\t**nodes**: the number of nodes that received requests from per IP.\n",
    "8.\t**contents**: the number of contents/files that per IP requested for.\n",
    "9.\t**label**: 0-normal, 1-abnormal (potential cache pollution attacks). "
   ]
  },
  {
   "cell_type": "markdown",
   "metadata": {},
   "source": [
    "---\n",
    "# Question 1 - Explore dataset ( X / 5 pts )\n",
    "\n",
    "- Read the dataset \"IP_Activity_Dataset_5000.csv\" as a pandas dataframe.\n",
    "- Print the number of observations in the dataset\n",
    "- Print the number of variables in the dataset (all variables regardless of whether they are a feature or label or neither)\n",
    "- Print the number of observations for each class in the 'label' variable\n",
    "- Print the first five rows of the dataset"
   ]
  },
  {
   "cell_type": "code",
   "execution_count": 2,
   "metadata": {},
   "outputs": [
    {
     "name": "stdout",
     "output_type": "stream",
     "text": [
      "num observations 5000\n",
      "num variables 9\n",
      "label\n",
      "0    4500\n",
      "1     500\n",
      "Name: count, dtype: int64\n"
     ]
    },
    {
     "data": {
      "text/html": [
       "<div>\n",
       "<style scoped>\n",
       "    .dataframe tbody tr th:only-of-type {\n",
       "        vertical-align: middle;\n",
       "    }\n",
       "\n",
       "    .dataframe tbody tr th {\n",
       "        vertical-align: top;\n",
       "    }\n",
       "\n",
       "    .dataframe thead th {\n",
       "        text-align: right;\n",
       "    }\n",
       "</style>\n",
       "<table border=\"1\" class=\"dataframe\">\n",
       "  <thead>\n",
       "    <tr style=\"text-align: right;\">\n",
       "      <th></th>\n",
       "      <th>requests</th>\n",
       "      <th>request-interval</th>\n",
       "      <th>request-popularity</th>\n",
       "      <th>bytes</th>\n",
       "      <th>delivery-time</th>\n",
       "      <th>hit-rate</th>\n",
       "      <th>nodes</th>\n",
       "      <th>contents</th>\n",
       "      <th>label</th>\n",
       "    </tr>\n",
       "  </thead>\n",
       "  <tbody>\n",
       "    <tr>\n",
       "      <th>0</th>\n",
       "      <td>18</td>\n",
       "      <td>378.605278</td>\n",
       "      <td>1.000000</td>\n",
       "      <td>29.667209</td>\n",
       "      <td>38.833333</td>\n",
       "      <td>0.888889</td>\n",
       "      <td>2</td>\n",
       "      <td>9</td>\n",
       "      <td>0</td>\n",
       "    </tr>\n",
       "    <tr>\n",
       "      <th>1</th>\n",
       "      <td>5</td>\n",
       "      <td>0.524200</td>\n",
       "      <td>1.000000</td>\n",
       "      <td>19.226953</td>\n",
       "      <td>204.600000</td>\n",
       "      <td>1.000000</td>\n",
       "      <td>1</td>\n",
       "      <td>5</td>\n",
       "      <td>0</td>\n",
       "    </tr>\n",
       "    <tr>\n",
       "      <th>2</th>\n",
       "      <td>1141</td>\n",
       "      <td>66.912231</td>\n",
       "      <td>0.167647</td>\n",
       "      <td>19.847204</td>\n",
       "      <td>142.072963</td>\n",
       "      <td>0.021520</td>\n",
       "      <td>5</td>\n",
       "      <td>703</td>\n",
       "      <td>1</td>\n",
       "    </tr>\n",
       "    <tr>\n",
       "      <th>3</th>\n",
       "      <td>80</td>\n",
       "      <td>2.472875</td>\n",
       "      <td>0.418750</td>\n",
       "      <td>1769.312634</td>\n",
       "      <td>1330.787500</td>\n",
       "      <td>1.000000</td>\n",
       "      <td>2</td>\n",
       "      <td>76</td>\n",
       "      <td>0</td>\n",
       "    </tr>\n",
       "    <tr>\n",
       "      <th>4</th>\n",
       "      <td>1</td>\n",
       "      <td>0.000000</td>\n",
       "      <td>1.000000</td>\n",
       "      <td>0.000000</td>\n",
       "      <td>2.000000</td>\n",
       "      <td>1.000000</td>\n",
       "      <td>1</td>\n",
       "      <td>1</td>\n",
       "      <td>0</td>\n",
       "    </tr>\n",
       "  </tbody>\n",
       "</table>\n",
       "</div>"
      ],
      "text/plain": [
       "   requests  request-interval  request-popularity        bytes  delivery-time  \\\n",
       "0        18        378.605278            1.000000    29.667209      38.833333   \n",
       "1         5          0.524200            1.000000    19.226953     204.600000   \n",
       "2      1141         66.912231            0.167647    19.847204     142.072963   \n",
       "3        80          2.472875            0.418750  1769.312634    1330.787500   \n",
       "4         1          0.000000            1.000000     0.000000       2.000000   \n",
       "\n",
       "   hit-rate  nodes  contents  label  \n",
       "0  0.888889      2         9      0  \n",
       "1  1.000000      1         5      0  \n",
       "2  0.021520      5       703      1  \n",
       "3  1.000000      2        76      0  \n",
       "4  1.000000      1         1      0  "
      ]
     },
     "execution_count": 2,
     "metadata": {},
     "output_type": "execute_result"
    }
   ],
   "source": [
    "df = pd.read_csv('IP_Activity_Dataset_5000.csv')\n",
    "print('num observations', df.shape[0])\n",
    "print('num variables', df.shape[1])x\n",
    "print(df['label'].value_counts())\n",
    "df.head()\n"
   ]
  },
  {
   "cell_type": "markdown",
   "metadata": {},
   "source": [
    "---\n",
    "---\n",
    "# Question 2 - Regression and Evaluation (X / 20 pts)\n",
    "Your next task is to build regression models that predicts the delivery-time of IPs."
   ]
  },
  {
   "cell_type": "markdown",
   "metadata": {},
   "source": [
    "---\n",
    "## Question 2 Part A - Data Splitting For Regression ( X / 2 pts )\n",
    "- Use 'delivery-time' as the target variable y for your regression models, and other variables as the feature set X.\n",
    "- Split the data into equals-sized training and test sets (do not shuffle the data).\n"
   ]
  },
  {
   "cell_type": "code",
   "execution_count": 3,
   "metadata": {},
   "outputs": [],
   "source": [
    "X = df.drop(['delivery-time'], axis=1).copy()\n",
    "y = df['delivery-time'].copy()\n",
    "\n",
    "X_train, X_test, y_train, y_test = train_test_split(X, y, test_size=0.5, shuffle=False)"
   ]
  },
  {
   "cell_type": "markdown",
   "metadata": {},
   "source": [
    "---\n",
    "## Question 2 Part B - Data Standardization ( X / 2 pts )\n",
    "- Z-standarize the input features of the training and test sets.\n",
    "- All the questions below should be based on the standarized dataset."
   ]
  },
  {
   "cell_type": "code",
   "execution_count": 4,
   "metadata": {},
   "outputs": [],
   "source": [
    "scaler = StandardScaler()\n",
    "X_train = scaler.fit_transform(X_train)\n",
    "X_test = scaler.transform(X_test)\n"
   ]
  },
  {
   "cell_type": "markdown",
   "metadata": {},
   "source": [
    "---\n",
    "## Question 2 Part C - Basic Lasso Regression ( X / 4 pts )\n",
    "- Build a regression model with L1 regularization (Lasso) and the default alpha value. Fit it on your training set, and set the random state to 42.\n",
    "- Report the coefficients and intercept of the model.\n",
    "- Report the Root Mean Square Error (RMSE) to evaluate the testing performance of your model."
   ]
  },
  {
   "cell_type": "code",
   "execution_count": 5,
   "metadata": {},
   "outputs": [
    {
     "name": "stdout",
     "output_type": "stream",
     "text": [
      "coeffs: [  10.17733701   18.59594951  103.74664627 5222.06671709 -138.53886518\n",
      "  -26.9272339   328.28445291 -528.78077484]\n",
      "intercept: 522.2855513716036\n",
      "rsme: 2342.731628197048\n"
     ]
    }
   ],
   "source": [
    "lasso_model = Lasso(random_state=42)\n",
    "lasso_model.fit(X_train, y_train)\n",
    "\n",
    "print(f'coeffs: {lasso_model.coef_}')\n",
    "print(f'intercept: {lasso_model.intercept_}')\n",
    "print(f'rsme: {mean_squared_error(y_test, lasso_model.predict(X_test), squared=False)}')\n"
   ]
  },
  {
   "cell_type": "markdown",
   "metadata": {},
   "source": [
    "---\n",
    "## Question 2 Part D - Determine the Optimal Regularization Term ( X / 12 pts )\n",
    "- Perform Lasso Regression with 5-fold cross-validation on the training set to find and **print out** the optimal regularization parameter (alpha) value. Vary the regularization parameter (alpha) between 0.01 and 100, evenly spaced in log-space, and generate 100 values. Set the random state to 42. Tip: use LassoCV function.\n",
    "- Create a plot showing the relationship between these 100 alpha values and their corresponding mean RMSE values. Sets the scale of the x-axis to a logarithmic scale. \n",
    "- Build and fit a Lasso Regression model on the training set using the optimal alpha and a random state of 42. Report the coefficients and intercept of the model. Report the Root Mean Square Error (RMSE) to evaluate the testing performance of your model."
   ]
  },
  {
   "cell_type": "code",
   "execution_count": 6,
   "metadata": {},
   "outputs": [
    {
     "name": "stdout",
     "output_type": "stream",
     "text": [
      "optimal alpha: 8.111308307896872\n"
     ]
    },
    {
     "data": {
      "image/png": "[encoded data removed]",
      "text/plain": [
       "<Figure size 1000x600 with 1 Axes>"
      ]
     },
     "metadata": {},
     "output_type": "display_data"
    },
    {
     "name": "stdout",
     "output_type": "stream",
     "text": [
      "coeffs: [ 0.00000000e+00  9.80979380e+00  8.45399253e+01  5.21093772e+03\n",
      " -1.12052875e+02 -4.86181219e+00  3.09342072e+02 -5.16502916e+02]\n",
      "intercept: 522.2855513716036\n",
      "rmse: 2341.00895021364\n"
     ]
    }
   ],
   "source": [
    "alphas = np.logspace(-2, 2, num=100)\n",
    "lasso_cv = LassoCV(alphas=alphas, cv=5, random_state=42)\n",
    "lasso_cv.fit(X_train, y_train)\n",
    "\n",
    "optimal_alpha = lasso_cv.alpha_\n",
    "print(f'optimal alpha: {optimal_alpha}')\n",
    "\n",
    "plt.figure(figsize=(10, 6))\n",
    "plt.plot(lasso_cv.alphas_, np.sqrt(np.mean(lasso_cv.mse_path_, axis=1)))\n",
    "plt.xscale('log')\n",
    "plt.xlabel('alpha')\n",
    "plt.ylabel('rmse')\n",
    "plt.title('alpha vs rmse')\n",
    "plt.show()\n",
    "\n",
    "lasso_model = Lasso(alpha=optimal_alpha, random_state=42)\n",
    "lasso_model.fit(X_train, y_train)\n",
    "print(f'coeffs: {lasso_model.coef_}')\n",
    "print(f'intercept: {lasso_model.intercept_}')\n",
    "print(f'rmse: {mean_squared_error(y_test, lasso_model.predict(X_test), squared=False)}')\n",
    "\n"
   ]
  },
  {
   "cell_type": "markdown",
   "metadata": {},
   "source": [
    "---\n",
    "---\n",
    "# Question 3 - Classification and Evaluation (X / 35 pts)\n",
    "Your next task is to build classification models that can identify the malicious attacker IPs."
   ]
  },
  {
   "cell_type": "markdown",
   "metadata": {},
   "source": [
    "---\n",
    "## Question 3 Part A - Data Splitting For Classification ( X / 2 pts )\n",
    "- Use 'label' as the target variable y for your classification models for abnormal IP detection, and other variables as the feature set X.\n",
    "- Split the data into equals-sized training and test sets, and ensure the balanced distribution of labels when splitting data."
   ]
  },
  {
   "cell_type": "code",
   "execution_count": 7,
   "metadata": {},
   "outputs": [],
   "source": [
    "y = df['label'].copy()\n",
    "X = df.drop(['label'], axis=1).copy()\n",
    "\n",
    "\n",
    "X_train, X_test, y_train, y_test = train_test_split(X, y, test_size=0.5, stratify=y, random_state=42)\n"
   ]
  },
  {
   "cell_type": "markdown",
   "metadata": {},
   "source": [
    "---\n",
    "## Question 3 Part B - Data Standardization ( X / 2 pts )\n",
    "- Z-standarize the input features of the training and test sets.\n",
    "- All the questions below should be based on the standarized dataset."
   ]
  },
  {
   "cell_type": "code",
   "execution_count": 8,
   "metadata": {},
   "outputs": [],
   "source": [
    "scaler = StandardScaler()\n",
    "X_train = scaler.fit_transform(X_train)\n",
    "X_test = scaler.transform(X_test)\n"
   ]
  },
  {
   "cell_type": "markdown",
   "metadata": {},
   "source": [
    "---\n",
    "## Question 3 Part C - Random Forest ( X / 5 pts )\n",
    "- Build a Random Forest model that consists of 5 base decision trees with the maximum depth of 5, and fit the training set. Set random state to 42.\n",
    "- Print out the accuracy, F1-score, confusion matrix, and execution time (including both training and testing time) of the model when evaluating the testing performance of your model.\n"
   ]
  },
  {
   "cell_type": "code",
   "execution_count": 9,
   "metadata": {},
   "outputs": [
    {
     "name": "stdout",
     "output_type": "stream",
     "text": [
      "accuracy: 0.9916\n",
      "f1 score: 0.9568788501026694\n",
      "confusion matrix [[2246    4]\n",
      " [  17  233]]\n",
      "execution time: 0.04093623161315918 seconds\n"
     ]
    }
   ],
   "source": [
    "def train_random_forest(X_train, X_test, model=None):\n",
    "    if model == None:\n",
    "        random_forest_model = RandomForestClassifier(n_estimators=5, max_depth=5, random_state=42)\n",
    "    else:\n",
    "        random_forest_model = model\n",
    "    start_time = time.time()\n",
    "    random_forest_model.fit(X_train, y_train)\n",
    "    print(f'accuracy: {accuracy_score(y_test, random_forest_model.predict(X_test))}')\n",
    "    print(f'f1 score: {f1_score(y_test, random_forest_model.predict(X_test))}')\n",
    "    print(f'confusion matrix {confusion_matrix(y_test, random_forest_model.predict(X_test))}')\n",
    "    print(f'execution time: {time.time() - start_time} seconds')\n",
    "\n",
    "    return random_forest_model\n",
    "\n",
    "random_forest_model = train_random_forest(X_train, X_test)\n"
   ]
  },
  {
   "cell_type": "markdown",
   "metadata": {},
   "source": [
    "---\n",
    "## Question 3 Part D - Feature Selection by Random Forest ( X / 14 pts )\n",
    "- Use the Random Forest model you built in Q3-C to generate feature importance scores and select the most important features (rank the importance scores of each feature in descending order, and only select the important features from most to least important until the accumulated relative importance score reaches 90% or 0.9).\n",
    "- Use a horizontal bar chart to plot the importance scores of all features in descending order. Add appropriate x-axis and y-axis labels.\n",
    "- Print out the selected features with their importance scores, and generate the new training and test sets with the new feature set. \n",
    "- Retrain the same Random Forest model from Q3-C on the new training set, and print out the accuracy, F1-score, confusion matrix, and execution time (including both training and testing time) of the model on the new test set.\n",
    "- Plot the ROC curve for evaluating the Random Forest model on the new test set and report the area under the ROC curve."
   ]
  },
  {
   "cell_type": "code",
   "execution_count": 10,
   "metadata": {},
   "outputs": [
    {
     "data": {
      "image/png": "[encoded data removed]",
      "text/plain": [
       "<Figure size 640x480 with 1 Axes>"
      ]
     },
     "metadata": {},
     "output_type": "display_data"
    },
    {
     "name": "stdout",
     "output_type": "stream",
     "text": [
      "selected features\n",
      "contents: 0.3565116220410234\n",
      "request-popularity: 0.25924948917999363\n",
      "requests: 0.14177658110104274\n",
      "hit-rate: 0.09560544806422985\n",
      "accuracy: 0.9956\n",
      "f1 score: 0.9779559118236472\n",
      "confusion matrix [[2245    5]\n",
      " [   6  244]]\n",
      "execution time: 0.01112985610961914 seconds\n"
     ]
    },
    {
     "data": {
      "image/png": "[encoded data removed]",
      "text/plain": [
       "<Figure size 640x480 with 1 Axes>"
      ]
     },
     "metadata": {},
     "output_type": "display_data"
    },
    {
     "name": "stdout",
     "output_type": "stream",
     "text": [
      "auc: 0.9995911111111111\n"
     ]
    }
   ],
   "source": [
    "sorted_indices = np.argsort(random_forest_model.feature_importances_)[::-1]\n",
    "feature_importances = random_forest_model.feature_importances_[sorted_indices]\n",
    "feature_names = X.columns[sorted_indices]\n",
    "\n",
    "# descending order => highest importance at the top of the bar chart\n",
    "plt.barh(feature_names[::-1], feature_importances[::-1])\n",
    "plt.xlabel('importance scores')\n",
    "plt.ylabel('features')\n",
    "plt.title('feature importance scores')\n",
    "plt.show()\n",
    "\n",
    "\n",
    "accumulated_importance = np.cumsum(feature_importances)\n",
    "\n",
    "selected_features = feature_names[accumulated_importance <= 0.9]\n",
    "selected_importance_scores = feature_importances[accumulated_importance <= 0.9]\n",
    "\n",
    "print(f'selected features')\n",
    "for feature, score in zip(selected_features, selected_importance_scores):\n",
    "    print(f'{feature}: {score}')\n",
    "\n",
    "X_train_selected = X_train[:, accumulated_importance <= 0.9]\n",
    "X_test_selected = X_test[:, accumulated_importance <= 0.9]\n",
    "\n",
    "random_forest_model_selected = train_random_forest(X_train_selected, X_test_selected)\n",
    "\n",
    "fpr, tpr, thresholds = roc_curve(y_test, random_forest_model_selected.predict_proba(X_test_selected)[:, 1])\n",
    "auc = roc_auc_score(y_test, random_forest_model_selected.predict_proba(X_test_selected)[:, 1])\n",
    "\n",
    "plt.plot(fpr, tpr, label='model')\n",
    "plt.plot([0, 1], [0, 1], label='random guessing')\n",
    "plt.xlabel('fpr')\n",
    "plt.ylabel('tpr')\n",
    "plt.title('ROC Curve')\n",
    "plt.legend()\n",
    "plt.show()\n",
    "\n",
    "print(f'auc: {auc}')\n",
    "\n",
    "\n"
   ]
  },
  {
   "cell_type": "markdown",
   "metadata": {},
   "source": [
    "---\n",
    "## Question 3 Part E - Hyperparamete Tuning of Random Forest ( X / 8 pts )\n",
    "- Use 3-fold grid search to tune two hyperparameters for the Random Forest model you built in Q3-D:\n",
    "    - The number of base estimators/decision trees (find the better value among the two numbers 10 and 20).\n",
    "    - The maximum tree depth (find the better value among the two numbers 10 and 20).\n",
    "- Print out the detected better hyperparameter values and cross-validation score.\n",
    "- Build the Random Forest model with the better hyperparameter values you found, and fit the new training set from Q3-D.\n",
    "- Report the accuracy, F1-score. confusion matrix, and execution time (including both training and testing time) of the model when evaluating the testing performance of your model on the new test set from Q3-D.\n"
   ]
  },
  {
   "cell_type": "code",
   "execution_count": 11,
   "metadata": {},
   "outputs": [
    {
     "name": "stdout",
     "output_type": "stream",
     "text": [
      "better n_estimators: 10\n",
      "better max_depth: 10\n",
      "cv score: -0.05370064243829587\n",
      "accuracy: 0.994\n",
      "f1 score: 0.969574036511156\n",
      "confusion matrix [[2246    4]\n",
      " [  11  239]]\n",
      "execution time: 0.017404794692993164 seconds\n"
     ]
    },
    {
     "data": {
      "text/html": [
       "<style>#sk-container-id-1 {color: black;}#sk-container-id-1 pre{padding: 0;}#sk-container-id-1 div.sk-toggleable {background-color: white;}#sk-container-id-1 label.sk-toggleable__label {cursor: pointer;display: block;width: 100%;margin-bottom: 0;padding: 0.3em;box-sizing: border-box;text-align: center;}#sk-container-id-1 label.sk-toggleable__label-arrow:before {content: \"▸\";float: left;margin-right: 0.25em;color: #696969;}#sk-container-id-1 label.sk-toggleable__label-arrow:hover:before {color: black;}#sk-container-id-1 div.sk-estimator:hover label.sk-toggleable__label-arrow:before {color: black;}#sk-container-id-1 div.sk-toggleable__content {max-height: 0;max-width: 0;overflow: hidden;text-align: left;background-color: #f0f8ff;}#sk-container-id-1 div.sk-toggleable__content pre {margin: 0.2em;color: black;border-radius: 0.25em;background-color: #f0f8ff;}#sk-container-id-1 input.sk-toggleable__control:checked~div.sk-toggleable__content {max-height: 200px;max-width: 100%;overflow: auto;}#sk-container-id-1 input.sk-toggleable__control:checked~label.sk-toggleable__label-arrow:before {content: \"▾\";}#sk-container-id-1 div.sk-estimator input.sk-toggleable__control:checked~label.sk-toggleable__label {background-color: #d4ebff;}#sk-container-id-1 div.sk-label input.sk-toggleable__control:checked~label.sk-toggleable__label {background-color: #d4ebff;}#sk-container-id-1 input.sk-hidden--visually {border: 0;clip: rect(1px 1px 1px 1px);clip: rect(1px, 1px, 1px, 1px);height: 1px;margin: -1px;overflow: hidden;padding: 0;position: absolute;width: 1px;}#sk-container-id-1 div.sk-estimator {font-family: monospace;background-color: #f0f8ff;border: 1px dotted black;border-radius: 0.25em;box-sizing: border-box;margin-bottom: 0.5em;}#sk-container-id-1 div.sk-estimator:hover {background-color: #d4ebff;}#sk-container-id-1 div.sk-parallel-item::after {content: \"\";width: 100%;border-bottom: 1px solid gray;flex-grow: 1;}#sk-container-id-1 div.sk-label:hover label.sk-toggleable__label {background-color: #d4ebff;}#sk-container-id-1 div.sk-serial::before {content: \"\";position: absolute;border-left: 1px solid gray;box-sizing: border-box;top: 0;bottom: 0;left: 50%;z-index: 0;}#sk-container-id-1 div.sk-serial {display: flex;flex-direction: column;align-items: center;background-color: white;padding-right: 0.2em;padding-left: 0.2em;position: relative;}#sk-container-id-1 div.sk-item {position: relative;z-index: 1;}#sk-container-id-1 div.sk-parallel {display: flex;align-items: stretch;justify-content: center;background-color: white;position: relative;}#sk-container-id-1 div.sk-item::before, #sk-container-id-1 div.sk-parallel-item::before {content: \"\";position: absolute;border-left: 1px solid gray;box-sizing: border-box;top: 0;bottom: 0;left: 50%;z-index: -1;}#sk-container-id-1 div.sk-parallel-item {display: flex;flex-direction: column;z-index: 1;position: relative;background-color: white;}#sk-container-id-1 div.sk-parallel-item:first-child::after {align-self: flex-end;width: 50%;}#sk-container-id-1 div.sk-parallel-item:last-child::after {align-self: flex-start;width: 50%;}#sk-container-id-1 div.sk-parallel-item:only-child::after {width: 0;}#sk-container-id-1 div.sk-dashed-wrapped {border: 1px dashed gray;margin: 0 0.4em 0.5em 0.4em;box-sizing: border-box;padding-bottom: 0.4em;background-color: white;}#sk-container-id-1 div.sk-label label {font-family: monospace;font-weight: bold;display: inline-block;line-height: 1.2em;}#sk-container-id-1 div.sk-label-container {text-align: center;}#sk-container-id-1 div.sk-container {/* jupyter's `normalize.less` sets `[hidden] { display: none; }` but bootstrap.min.css set `[hidden] { display: none !important; }` so we also need the `!important` here to be able to override the default hidden behavior on the sphinx rendered scikit-learn.org. See: https://github.com/scikit-learn/scikit-learn/issues/21755 */display: inline-block !important;position: relative;}#sk-container-id-1 div.sk-text-repr-fallback {display: none;}</style><div id=\"sk-container-id-1\" class=\"sk-top-container\"><div class=\"sk-text-repr-fallback\"><pre>RandomForestClassifier(max_depth=10, n_estimators=10, random_state=42)</pre><b>In a Jupyter environment, please rerun this cell to show the HTML representation or trust the notebook. <br />On GitHub, the HTML representation is unable to render, please try loading this page with nbviewer.org.</b></div><div class=\"sk-container\" hidden><div class=\"sk-item\"><div class=\"sk-estimator sk-toggleable\"><input class=\"sk-toggleable__control sk-hidden--visually\" id=\"sk-estimator-id-1\" type=\"checkbox\" checked><label for=\"sk-estimator-id-1\" class=\"sk-toggleable__label sk-toggleable__label-arrow\">RandomForestClassifier</label><div class=\"sk-toggleable__content\"><pre>RandomForestClassifier(max_depth=10, n_estimators=10, random_state=42)</pre></div></div></div></div></div>"
      ],
      "text/plain": [
       "RandomForestClassifier(max_depth=10, n_estimators=10, random_state=42)"
      ]
     },
     "execution_count": 11,
     "metadata": {},
     "output_type": "execute_result"
    }
   ],
   "source": [
    "params = dict({\n",
    "    'n_estimators': [10, 20],\n",
    "    'max_depth': [10, 20]\n",
    "})\n",
    "\n",
    "gs = GridSearchCV(\n",
    "    random_forest_model_selected,\n",
    "    params,\n",
    "    cv = 3,\n",
    "    scoring = 'neg_root_mean_squared_error'\n",
    ")\n",
    "\n",
    "gs.fit(X_train, y_train)\n",
    "\n",
    "tuned_n_estimators = gs.best_params_.get('n_estimators')\n",
    "tuned_max_depth = gs.best_params_.get('max_depth')\n",
    "\n",
    "print(f'better n_estimators: {tuned_n_estimators}')\n",
    "print(f'better max_depth: {tuned_max_depth}')\n",
    "print(f'cv score: {gs.best_score_}')\n",
    "\n",
    "tuned_forest = RandomForestClassifier(n_estimators=tuned_n_estimators, max_depth=tuned_max_depth, random_state=42)\n",
    "train_random_forest(X_train_selected, X_test_selected, tuned_forest)\n"
   ]
  },
  {
   "cell_type": "markdown",
   "metadata": {},
   "source": [
    "---\n",
    "## Question 3 Part F - Classification Model Performance Discussion ( X / 4 pts )\n",
    "- Compare the performance of the three models from Questions 3-C, 3-D, and 3-E, and discuss reasons for performance difference.\n",
    "- Compare the execution time of the three models from Questions 3-C, 3-D, and 3-E, and discuss reasons for time/efficiency difference."
   ]
  },
  {
   "cell_type": "markdown",
   "metadata": {},
   "source": [
    "The following data is from one run of the notebook: the code is the same but values may slightly differ since they differ slightly between runs: the general trends should be the same, however.\n",
    "\n",
    "### 3C model (untuned random forest, no feature selection)\n",
    "```\n",
    "accuracy: 0.9916\n",
    "f1 score: 0.9568788501026694\n",
    "confusion matrix [[2246    4]\n",
    " [  17  233]]\n",
    "execution time: 0.04810023307800293 seconds\n",
    "```\n",
    "\n",
    "### 3D model (untuned random forest, feature selection)\n",
    "\n",
    "```\n",
    "accuracy: 0.9956\n",
    "f1 score: 0.9779559118236472\n",
    "confusion matrix [[2245    5]\n",
    " [   6  244]]\n",
    "execution time: 0.013292074203491211 seconds\n",
    "```\n",
    "\n",
    "### 3E model (tuned random forest, feature selection)\n",
    "\n",
    "```\n",
    "accuracy: 0.994\n",
    "f1 score: 0.969574036511156\n",
    "confusion matrix [[2246    4]\n",
    " [  11  239]]\n",
    "execution time: 0.01780223846435547 seconds\n",
    "```\n",
    "\n"
   ]
  },
  {
   "cell_type": "markdown",
   "metadata": {},
   "source": [
    "#### Written answer: Explain here.\n",
    "The performance of all models is quite good. As expected, the untuned random forest with no feature selection performs the worst (lowest accuracy and f1 scores). Both models with feature selection perform better. The fact that feature selection performs better than no feature selection could suggest that the features of low importance are not very good predictors of the target variable: including them in the model (as in 3C) may cause the model to fit to the noise, resulting in lower performance.\n",
    "\n",
    "3E technically performs slightly worse than the 3D model despite being hyperparameter tuned. But, the difference is extremely small (~.1% accuracy) that it could be considered negligible. Maybe (or maybe not), the 3E model actually generalizes better, and had we had a larger test set we would see 3E winning. It could also be performing slightly worse because despite our hyperparemeter tuning, having a max depth of 10 instead of 5 could be causing overfitting to the training data."
   ]
  },
  {
   "cell_type": "markdown",
   "metadata": {},
   "source": [
    "#### Written answer: Explain here.\n",
    "\n",
    "The 3C model expectedly takes the longest to run: we are training with all the features, so during training the model considers all features when making a branch point, resulting in higher training time.\n",
    "\n",
    "The 3E model takes longer than the 3D model, it uses 10 estimators and a max depth of 10 instead of 5 and 5, respectively. So, there are trees to train AND each tree is trained to a deeper level.\n",
    "\n",
    "The 3D model is is the fastest because it uses less features, less estimators, and a shallower max depth."
   ]
  },
  {
   "cell_type": "markdown",
   "metadata": {},
   "source": [
    "---\n",
    "---\n",
    "---\n",
    "**You're done! As always, double-check your work by re-running the notebook from scratch.**"
   ]
  }
 ],
 "metadata": {
  "kernelspec": {
   "display_name": "Python 3 (ipykernel)",
   "language": "python",
   "name": "python3"
  },
  "language_info": {
   "codemirror_mode": {
    "name": "ipython",
    "version": 3
   },
   "file_extension": ".py",
   "mimetype": "text/x-python",
   "name": "python",
   "nbconvert_exporter": "python",
   "pygments_lexer": "ipython3",
   "version": "3.9.6"
  },
  "vscode": {
   "interpreter": {
    "hash": "ad2bdc8ecc057115af97d19610ffacc2b4e99fae6737bb82f5d7fb13d2f2c186"
   }
  }
 },
 "nbformat": 4,
 "nbformat_minor": 4
}
