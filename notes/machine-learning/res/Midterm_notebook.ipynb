{
 "cells": [
  {
   "cell_type": "markdown",
   "metadata": {},
   "source": [
    "---\n",
    "# <span style=\"color:pink\">DS3000A - DS9000A Midterm Exam</span>\n",
    "\n",
    "## <span style=\"color:pink\">Student ID #: 251169871</span>\n",
    "\n",
    "## <span style=\"color:pink\">Grade: __ / 100</span>\n",
    "\n",
    "## <span style=\"color:pink\">General Comments</span>\n",
    "\n",
    "- This exam integrates knowledge and skills acquired in the first half of the term.\n",
    "\n",
    "- Use of AI agents such as ChatGPT and Copilot is considered an act of cheating and you will receive 0 mark for the exam.\n",
    "\n",
    "- You are allowed to use any other resources on your computer or the internet, but you are **not** allowed to share documents, post questions to forums such as Stack Overflow (this includes use of homework helpers such as Chegg), or communicate in anyway with people inside or outside the exam room.\n",
    "\n",
    "- Having any communication tools (*e.g.*, Discord, Teams, Slack, Outlook etc.) either web-based or app-based open on your computer (or having them running in the background) is considered an act of cheating and you will receive 0 mark for the exam.\n",
    "\n",
    "- To finish the midterm in the alloted time, you will have to work efficiently.\n",
    "\n",
    "- Please read the entirety of each question carefully.\n",
    "\n",
    "- You must have your work submitted by 5:30PM to the \"Test and Quizzes\" section of the course's site on OWL, *i.e.*, the same place where you originally downloaded the notebook. Late submissions will be scored with 0 mark unless one has an approved accommodation for submitting late. Therefore, to avoid technical difficulties at the time of submission, please initiate your submission process at the latest five minutes before the deadline. \n",
    "\n",
    "- Some questions demand a **written answer**. Please answer these in full English sentences in a markdown cell right underneath the question.\n",
    "\n",
    "- For your figures ensure that all axes are labeled in an informative way. To facilitate interpretation, there could be a situation where you should limit the x-axis and/or y-axis to zoom-in.\n",
    "\n",
    "- At the end, before submitting to OWL, restart the kernel and rerun all cells to make sure that your notebook runs error free and as expected.\n",
    "\n",
    "## <span style=\"color:pink\">Additional Guidance</span>\n",
    "\n",
    "- The toolbox cells offer almost every tool that you need to answer the questions, however, depending on your answers, there could be a couple of instances where you'd need to bring in more tools - unless a question imposes certain restrictions.\n",
    "\n",
    "- If at any point you are asking yourself \"are we supposed to...\", write your assumptions clearly and proceed according to them.\n",
    "\n",
    "- If you have no clue how to approach a question, skip it, and move on. Revisit the skipped one(s) after you are done with other questions.\n",
    "\n",
    "- Where applicable, take advantage of the argument `n_jobs=-1` to speed up processes with parallel computing.\n",
    "\n",
    "- To navigate within the notebook, better to take advantage of the notebook's table of contents (normally on the left side of the screen). It saves you time compared to pure mouse scrolling. In VScode, it is nested under the \"OUTLINE\" tab which is by default minimized unless you click it to maximize.\n",
    "\n",
    "- Please ensure that your results are generated using the provided random seed, where applicable."
   ]
  },
  {
   "cell_type": "markdown",
   "metadata": {},
   "source": [
    "---\n",
    "## <span style=\"color:orange\">Global Toolbox</span>"
   ]
  },
  {
   "cell_type": "code",
   "execution_count": 1,
   "metadata": {},
   "outputs": [],
   "source": [
    "import warnings; warnings.filterwarnings('ignore')\n",
    "import pandas as pd; pd.set_option('display.max_columns', None)\n",
    "import numpy as np; seed = 202311; np.random.seed(seed)\n",
    "import matplotlib.pyplot as plt\n",
    "import sklearn as sk\n",
    "from sklearn.preprocessing import StandardScaler\n",
    "from sklearn.linear_model import ElasticNetCV, ElasticNet\n",
    "from IPython.display import display\n",
    "from sklearn.feature_selection import SequentialFeatureSelector\n",
    "import matplotlib.ticker as ticker\n",
    "%matplotlib inline"
   ]
  },
  {
   "cell_type": "markdown",
   "metadata": {},
   "source": [
    "---\n",
    "## Question 1 - <span style=\"color:green\">[X]</span> - Regression\n",
    "The data set `Midterm_dataset.csv` , lists salaries of job roles in data profession and has the following attributes:\n",
    "\n",
    "|Index | Attribute | Description |\n",
    "| --- | --- | --- |\n",
    "|0|`exp`|Experience level in the job during the year. In ascending order: EN (entry), MI (mid), SE (senior), EX (executive). Thus, EN refers to no experience and EX to highest level of experience.|\n",
    "|1|`emp_title`|The role the employee worked in during the year.|\n",
    "|2|`compensation`|Salary in USD.|\n",
    "|3|`perc_remote`|Percentage of work done remotely.|\n",
    "|4|`co_size`|The size of the employer company. S for small, M for medium, and L for large.|\n",
    "|5|`co_location`|The country of the employer's main office.|\n",
    "|6|`year`|The year compensation was paid.|\n",
    "|7|`emp_location`|Location of employee's residence during the work year in the format of (latitude,longitude).|\n",
    "|8|`emp_ID`|Employee's identification number at the company.|"
   ]
  },
  {
   "cell_type": "markdown",
   "metadata": {},
   "source": [
    "### <span style=\"color:orange\">Q1 Toolbox</span>"
   ]
  },
  {
   "cell_type": "code",
   "execution_count": 2,
   "metadata": {},
   "outputs": [],
   "source": [
    "import seaborn as sns\n",
    "from sklearn.model_selection import train_test_split\n",
    "from sklearn.pipeline import Pipeline\n",
    "from sklearn.model_selection import KFold"
   ]
  },
  {
   "cell_type": "markdown",
   "metadata": {},
   "source": [
    "### Q1.1 - <span style=\"color:red\">[16]</span> - Load the dataset and answer the following questions:\n",
    "\n",
    "1. Are there any `nan` and duplicate rows in the dataframe?\n",
    "2. What percentage of the data pertains to employees who worked entirely in-person? \n",
    "3. Taking 3% as the threshold for statistical significance, what countries (*i.e.*, employer's location) are statistically significant in the data?\n",
    "4. Delete from the dataset the rows belonging to insignificant countries and display the last five rows of this new dataset. **From now on, you will be working with this new dataset.**"
   ]
  },
  {
   "cell_type": "code",
   "execution_count": 3,
   "metadata": {},
   "outputs": [
    {
     "name": "stdout",
     "output_type": "stream",
     "text": [
      "The dataset has nan:  True\n",
      "The dataset has duplicates:  False\n",
      "Percentage of data pertaining to employees entirely in-person 47.172859450726975\n",
      "Percentage from each country\n",
      "co_location\n",
      "United States     0.760097\n",
      "United Kingdom    0.060985\n",
      "Canada            0.032714\n",
      "India             0.019790\n",
      "Germany           0.018982\n",
      "                    ...   \n",
      "China             0.000404\n",
      "Denmark           0.000404\n",
      "Malaysia          0.000404\n",
      "Iraq              0.000404\n",
      "Malta             0.000404\n",
      "Name: count, Length: 66, dtype: float64\n",
      "United States, United Kingdom, and Canada are statistically significant.\n"
     ]
    },
    {
     "data": {
      "text/html": [
       "<div>\n",
       "<style scoped>\n",
       "    .dataframe tbody tr th:only-of-type {\n",
       "        vertical-align: middle;\n",
       "    }\n",
       "\n",
       "    .dataframe tbody tr th {\n",
       "        vertical-align: top;\n",
       "    }\n",
       "\n",
       "    .dataframe thead th {\n",
       "        text-align: right;\n",
       "    }\n",
       "</style>\n",
       "<table border=\"1\" class=\"dataframe\">\n",
       "  <thead>\n",
       "    <tr style=\"text-align: right;\">\n",
       "      <th></th>\n",
       "      <th>exp</th>\n",
       "      <th>emp_title</th>\n",
       "      <th>compensation</th>\n",
       "      <th>perc_remote</th>\n",
       "      <th>co_size</th>\n",
       "      <th>co_location</th>\n",
       "      <th>year</th>\n",
       "      <th>emp_location</th>\n",
       "      <th>emp_ID</th>\n",
       "    </tr>\n",
       "  </thead>\n",
       "  <tbody>\n",
       "    <tr>\n",
       "      <th>2466</th>\n",
       "      <td>MI</td>\n",
       "      <td>Data Analyst</td>\n",
       "      <td>62000.0</td>\n",
       "      <td>0.0</td>\n",
       "      <td>L</td>\n",
       "      <td>United States</td>\n",
       "      <td>2021</td>\n",
       "      <td>(37.09024, -95.712891)</td>\n",
       "      <td>57402</td>\n",
       "    </tr>\n",
       "    <tr>\n",
       "      <th>2467</th>\n",
       "      <td>MI</td>\n",
       "      <td>Data Scientist</td>\n",
       "      <td>73000.0</td>\n",
       "      <td>0.0</td>\n",
       "      <td>L</td>\n",
       "      <td>United States</td>\n",
       "      <td>2021</td>\n",
       "      <td>(37.09024, -95.712891)</td>\n",
       "      <td>75206</td>\n",
       "    </tr>\n",
       "    <tr>\n",
       "      <th>2471</th>\n",
       "      <td>MI</td>\n",
       "      <td>Applied Machine Learning Scientist</td>\n",
       "      <td>423000.0</td>\n",
       "      <td>50.0</td>\n",
       "      <td>L</td>\n",
       "      <td>United States</td>\n",
       "      <td>2021</td>\n",
       "      <td>(37.09024, -95.712891)</td>\n",
       "      <td>67584</td>\n",
       "    </tr>\n",
       "    <tr>\n",
       "      <th>2473</th>\n",
       "      <td>SE</td>\n",
       "      <td>Data Specialist</td>\n",
       "      <td>165000.0</td>\n",
       "      <td>100.0</td>\n",
       "      <td>L</td>\n",
       "      <td>United States</td>\n",
       "      <td>2021</td>\n",
       "      <td>(37.09024, -95.712891)</td>\n",
       "      <td>15877</td>\n",
       "    </tr>\n",
       "    <tr>\n",
       "      <th>2474</th>\n",
       "      <td>MI</td>\n",
       "      <td>Principal Data Scientist</td>\n",
       "      <td>151000.0</td>\n",
       "      <td>100.0</td>\n",
       "      <td>L</td>\n",
       "      <td>United States</td>\n",
       "      <td>2021</td>\n",
       "      <td>(37.09024, -95.712891)</td>\n",
       "      <td>87202</td>\n",
       "    </tr>\n",
       "  </tbody>\n",
       "</table>\n",
       "</div>"
      ],
      "text/plain": [
       "     exp                           emp_title  compensation  perc_remote  \\\n",
       "2466  MI                        Data Analyst       62000.0          0.0   \n",
       "2467  MI                      Data Scientist       73000.0          0.0   \n",
       "2471  MI  Applied Machine Learning Scientist      423000.0         50.0   \n",
       "2473  SE                     Data Specialist      165000.0        100.0   \n",
       "2474  MI            Principal Data Scientist      151000.0        100.0   \n",
       "\n",
       "     co_size    co_location  year            emp_location  emp_ID  \n",
       "2466       L  United States  2021  (37.09024, -95.712891)   57402  \n",
       "2467       L  United States  2021  (37.09024, -95.712891)   75206  \n",
       "2471       L  United States  2021  (37.09024, -95.712891)   67584  \n",
       "2473       L  United States  2021  (37.09024, -95.712891)   15877  \n",
       "2474       L  United States  2021  (37.09024, -95.712891)   87202  "
      ]
     },
     "execution_count": 3,
     "metadata": {},
     "output_type": "execute_result"
    }
   ],
   "source": [
    "#\n",
    "df = pd.read_csv('Midterm_dataset.csv')\n",
    "num_rows = df.shape[0]\n",
    "\n",
    "print('The dataset has nan: ', df.isnull().values.any())\n",
    "print('The dataset has duplicates: ', df.duplicated().values.any())\n",
    "\n",
    "num_in_person = df.perc_remote.value_counts()[0]\n",
    "\n",
    "print('Percentage of data pertaining to employees entirely in-person', num_in_person/df.shape[0] * 100)\n",
    "\n",
    "significant = 0.03\n",
    "\n",
    "print('Percentage from each country')\n",
    "perc_location = (df.co_location.value_counts() / num_rows).sort_values(ascending=False)\n",
    "print(perc_location)\n",
    "\n",
    "print('United States, United Kingdom, and Canada are statistically significant.')\n",
    "\n",
    "countries = ['United States', 'United Kingdom', 'Canada']\n",
    "df2 = df[df.co_location.isin(countries)]\n",
    "\n",
    "df2['compensation'] = df2['compensation'].str.replace('USD', '').astype(float)\n",
    "\n",
    "df2.tail()\n"
   ]
  },
  {
   "cell_type": "markdown",
   "metadata": {},
   "source": [
    "### Q1.2 - <span style=\"color:red\">[11]</span> - Use box plots to visualize the distributions of salaries based on levels of job experience. Level the box plots on country, so you can see the distributions for each country separately. Answer the following questions solely by relying on your interpretation of the box plots:\n",
    "1. Which country pays higher salaries across all experience levels?\n",
    "2. Within which class of experience level the salaries paid by the countries are most similar? How much job experience people in this class have?"
   ]
  },
  {
   "cell_type": "code",
   "execution_count": 4,
   "metadata": {},
   "outputs": [
    {
     "data": {
      "image/png": "[encoded data removed]",
      "text/plain": [
       "<Figure size 640x480 with 1 Axes>"
      ]
     },
     "metadata": {},
     "output_type": "display_data"
    },
    {
     "name": "stdout",
     "output_type": "stream",
     "text": [
      "The United States pays higher salaries across all experience levels.\n",
      "Pay appears to be most similar in the SE class of experience level. (Senior)\n"
     ]
    }
   ],
   "source": [
    "ax = sns.boxplot(x='exp', y='compensation', hue='co_location', data=df2, showfliers=False)\n",
    "plt.show()\n",
    "\n",
    "print('The United States pays higher salaries across all experience levels.')\n",
    "print('Pay appears to be most similar in the SE class of experience level. (Senior)')"
   ]
  },
  {
   "cell_type": "markdown",
   "metadata": {},
   "source": [
    "### Q1.3 - <span style=\"color:red\">[18]</span> - Eventually, we want to train a regularized regression model to predict salary. With this in mind, for this question, prepare the data for that stage. For the preparation phase, you should use applicable techniques and knowledge covered during the term, but ignore statistical significance of categorical attributes, also, ignore studying pairwise relationships between attributes and/or target. Once you are done with all your preprocessings, split the data into training and test sets with a test set size of 20%."
   ]
  },
  {
   "cell_type": "code",
   "execution_count": 5,
   "metadata": {},
   "outputs": [],
   "source": [
    "df3 = pd.get_dummies(df2, columns=['exp', 'emp_title', 'co_location', 'co_size'], drop_first=True)\n",
    "df3 = df3.dropna()\n",
    "y = df3['compensation']\n",
    "\n",
    "# longitude and latitude would actually be useful (e.g. California pay is probably higher than Montana pay,\n",
    "# but we don't have any provided useful functions for getting e.g. the region from longitude/latitude,\n",
    "# so we'll just drop them for now since \"Country\" encapsulates some of the information for the region\n",
    "X = df3.drop(['compensation', 'emp_location', 'emp_ID'], axis=1)\n",
    "\n",
    "X_train, X_test, y_train, y_test = train_test_split(X, y, test_size=0.2, random_state=seed)"
   ]
  },
  {
   "cell_type": "markdown",
   "metadata": {},
   "source": [
    "### Q1.4 - <span style=\"color:red\">[20]</span> - Train a regression model which uses the following loss function for training:\n",
    "$$J(\\beta)=MSE(\\beta)+\\lambda(r\\sum_{i=1}^n |\\beta_i|+\\frac{1-r}{2}\\sum_{i=1}^n\\beta_i^2).$$\n",
    "\n",
    "With $\\lambda=2$, your model must use a 5-fold cross-validation to find the best value among $[0.1, 0.4, 0.8, 1]$ for the $l_1$ ratio. What is the best value for $l_1$ that you find?"
   ]
  },
  {
   "cell_type": "code",
   "execution_count": 6,
   "metadata": {},
   "outputs": [
    {
     "name": "stdout",
     "output_type": "stream",
     "text": [
      "Best l1 ratio:  1.0\n"
     ]
    }
   ],
   "source": [
    "from sklearn.metrics import mean_squared_error\n",
    "l1_ratios = [0.1, 0.4, 0.8, 1]\n",
    "# 5-fold cross-validatoin to find best l1 ratio\n",
    "elasticnet_cv = ElasticNetCV(l1_ratio=l1_ratios, cv=5, random_state=seed)\n",
    "elasticnet_cv.fit(X_train, y_train)\n",
    "best_l1_ratio = elasticnet_cv.l1_ratio_\n",
    "\n",
    "model = Pipeline([\n",
    "    ('standard_scaler', StandardScaler()),\n",
    "    ('elastic_net', ElasticNet(alpha=2, l1_ratio=best_l1_ratio)),\n",
    "])\n",
    "model.fit(X_train, y_train)\n",
    "\n",
    "print('Best l1 ratio: ', best_l1_ratio)"
   ]
  },
  {
   "cell_type": "markdown",
   "metadata": {},
   "source": [
    "### Q1.5 - <span style=\"color:red\">[15]</span> - Report the training and generalization RMSE of your model as well as the mean and standard deviation of its shuffled cross-validation RMSE over 5 folds. Comment on the performance of this model in the context of overfitting/underfitting."
   ]
  },
  {
   "cell_type": "code",
   "execution_count": 7,
   "metadata": {},
   "outputs": [
    {
     "name": "stdout",
     "output_type": "stream",
     "text": [
      "Training RMSE: 47969.03328209858\n",
      "Test RMSE: 50785.232878906434\n",
      "Mean CV RMSE: 51151.74924577192\n",
      "Stddev CV RMSE: 2066.939132714478\n"
     ]
    }
   ],
   "source": [
    "def rmse(y, y_hat):\n",
    "    return np.sqrt(mean_squared_error(y, y_hat))\n",
    "\n",
    "y_train_pred = model.predict(X_train)\n",
    "y_test_pred = model.predict(X_test)\n",
    "print('Training RMSE:', rmse(y_train, y_train_pred))\n",
    "print('Test RMSE:', rmse(y_test, y_test_pred))\n",
    "\n",
    "def rmse_cross_val(model, X, y):\n",
    "    kf = KFold(n_splits=5, shuffle=True, random_state=seed)\n",
    "    rmse_scores = []\n",
    "    for index_train, index_test in kf.split(X):\n",
    "        X_train, X_test = X.iloc[index_train], X.iloc[index_test]\n",
    "        y_train, y_test = y.iloc[index_train], y.iloc[index_test]\n",
    "        model.fit(X_train, y_train)\n",
    "        y_test_pred = model.predict(X_test)\n",
    "        rmse_scores.append(rmse(y_test, y_test_pred))\n",
    "    return rmse_scores\n",
    "\n",
    "rmses = rmse_cross_val(model, X, y)\n",
    "print('Mean CV RMSE:', np.mean(rmses))\n",
    "print('Stddev CV RMSE:', np.std(rmses))\n",
    "\n"
   ]
  },
  {
   "cell_type": "markdown",
   "metadata": {},
   "source": [
    "Since the training and test RMSEs are approximately similar (the training RMSE is slightly lower than the test RMSE), the model is likely not overfitting.\n",
    "\n",
    "However, the errors are still high even on the training data: the model has trouble fitting to the training data so it is underfitting."
   ]
  },
  {
   "cell_type": "markdown",
   "metadata": {},
   "source": [
    "### Q1.6 - <span style=\"color:red\">[10]</span> - Plot a bar plot showing feature importance for your model for the top 10 attributes."
   ]
  },
  {
   "cell_type": "code",
   "execution_count": 8,
   "metadata": {},
   "outputs": [
    {
     "data": {
      "image/png": "[encoded data removed]",
      "text/plain": [
       "<Figure size 640x480 with 1 Axes>"
      ]
     },
     "metadata": {},
     "output_type": "display_data"
    }
   ],
   "source": [
    "coeffs = pd.Series(abs(model.named_steps['elastic_net'].coef_), index=X_train.columns)\n",
    "coeffs.nlargest(10).plot(kind='barh')\n",
    "plt.show()\n"
   ]
  },
  {
   "cell_type": "markdown",
   "metadata": {},
   "source": [
    "### Q1.7 - <span style=\"color:red\">[10]</span> - Calculate the confidence interval based on a confidence level of 95$ for the mean of predictions by bootstrapping."
   ]
  },
  {
   "cell_type": "code",
   "execution_count": 16,
   "metadata": {},
   "outputs": [
    {
     "name": "stdout",
     "output_type": "stream",
     "text": [
      "Bootstrap CI: (56653.28186788905, 63883.72218755116)\n"
     ]
    }
   ],
   "source": [
    "def bootstrap_pred(model, X_train, y_train, X_test, y_test, numboot=1000):\n",
    "    n = len(X_train)\n",
    "    y_pred = np.zeros((numboot, X_test.shape[0]))\n",
    "    for i in range(numboot):\n",
    "        index = np.random.randint(0, n, 100)\n",
    "        model.fit(X_train.iloc[index], y_train.iloc[index])\n",
    "        y_pred[i,:] = model.predict(X_test)\n",
    "    return y_pred\n",
    "\n",
    "ypred_boot = np.mean(bootstrap_pred(model, X_train, y_train, X_test, y_test))\n",
    "\n",
    "boot_cl = 0.95\n",
    "p_1 = (1 - boot_cl) / 2\n",
    "p_2 = 1 - p_1\n",
    "p_y = np.mean(model.predict(X_test))\n",
    "boot_quant = np.quantile(ypred_boot - p_y, [p_1, p_2])\n",
    "boot_ci = (p_y - boot_quant[1], p_y + boot_quant[0])\n",
    "\n",
    "print('Bootstrap CI:', boot_ci)"
   ]
  }
 ],
 "metadata": {
  "kernelspec": {
   "display_name": "my_py_env",
   "language": "python",
   "name": "python3"
  },
  "language_info": {
   "codemirror_mode": {
    "name": "ipython",
    "version": 3
   },
   "file_extension": ".py",
   "mimetype": "text/x-python",
   "name": "python",
   "nbconvert_exporter": "python",
   "pygments_lexer": "ipython3",
   "version": "3.9.6"
  }
 },
 "nbformat": 4,
 "nbformat_minor": 2
}
