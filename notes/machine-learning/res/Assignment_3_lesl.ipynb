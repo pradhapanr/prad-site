{
  "cells": [
    {
      "cell_type": "markdown",
      "metadata": {
        "id": "Hz-bVtp5RuWE"
      },
      "source": [
        "### Follow These Instructions\n",
        "\n",
        "Once you are finished, ensure to complete the following steps.\n",
        "\n",
        "1.  Restart your kernel by clicking 'Kernel' > 'Restart & Run All'.\n",
        "\n",
        "2.  Fix any errors which result from this.\n",
        "\n",
        "3.  Repeat steps 1. and 2. until your notebook runs without errors.\n",
        "\n",
        "4.  Submit your completed notebook to OWL by the deadline."
      ]
    },
    {
      "cell_type": "markdown",
      "metadata": {
        "id": "tQq5GLpDRuWF"
      },
      "source": [
        "# Assignment 3: Classification with Logistic Regression  [ __ /100  marks]\n",
        "\n",
        "\n",
        "In this assignment we will use the `diabetes` dataset, which was collected and made available by “National Institute of Diabetes and Digestive and Kidney Diseases” as part of the Pima Indians Diabetes Database.\n",
        "\n",
        "We will use logistic regression to predict whether subjects have diabetes or not."
      ]
    },
    {
      "cell_type": "markdown",
      "metadata": {
        "id": "gqHVKMPQRuWF"
      },
      "source": [
        "## Global Toolbox"
      ]
    },
    {
      "cell_type": "code",
      "execution_count": 17,
      "metadata": {
        "id": "aVBkiARPRuWG"
      },
      "outputs": [],
      "source": [
        "import pandas as pd\n",
        "import seaborn as sns\n",
        "import numpy as np\n",
        "from sklearn.model_selection import train_test_split, cross_val_score\n",
        "from sklearn.linear_model import LogisticRegression\n",
        "from sklearn.metrics import roc_curve, precision_recall_curve, auc\n",
        "import matplotlib.pyplot as plt\n",
        "from sklearn.linear_model import SGDClassifier\n",
        "seed=0"
      ]
    },
    {
      "cell_type": "markdown",
      "metadata": {
        "id": "jcjg9szURuWG"
      },
      "source": [
        "## Question 1.1 [ _ /3 marks]\n",
        "\n",
        "Read the file `diabetes.csv` into a pandas DataFrame. Display the first 5 rows of the DataFrame."
      ]
    },
    {
      "cell_type": "code",
      "execution_count": 18,
      "metadata": {
        "colab": {
          "base_uri": "https://localhost:8080/",
          "height": 226
        },
        "id": "auQh6L4uRuWG",
        "outputId": "006ebd11-d00e-43b0-fe8d-6211a454f6f2",
        "scrolled": true
      },
      "outputs": [
        {
          "data": {
            "text/html": [
              "<div>\n",
              "<style scoped>\n",
              "    .dataframe tbody tr th:only-of-type {\n",
              "        vertical-align: middle;\n",
              "    }\n",
              "\n",
              "    .dataframe tbody tr th {\n",
              "        vertical-align: top;\n",
              "    }\n",
              "\n",
              "    .dataframe thead th {\n",
              "        text-align: right;\n",
              "    }\n",
              "</style>\n",
              "<table border=\"1\" class=\"dataframe\">\n",
              "  <thead>\n",
              "    <tr style=\"text-align: right;\">\n",
              "      <th></th>\n",
              "      <th>Pregnancies</th>\n",
              "      <th>Glucose</th>\n",
              "      <th>BloodPressure</th>\n",
              "      <th>SkinThickness</th>\n",
              "      <th>Insulin</th>\n",
              "      <th>BMI</th>\n",
              "      <th>DiabetesPedigreeFunction</th>\n",
              "      <th>Age</th>\n",
              "      <th>Outcome</th>\n",
              "    </tr>\n",
              "  </thead>\n",
              "  <tbody>\n",
              "    <tr>\n",
              "      <th>0</th>\n",
              "      <td>6</td>\n",
              "      <td>148</td>\n",
              "      <td>72</td>\n",
              "      <td>35</td>\n",
              "      <td>0</td>\n",
              "      <td>33.6</td>\n",
              "      <td>0.627</td>\n",
              "      <td>50</td>\n",
              "      <td>1</td>\n",
              "    </tr>\n",
              "    <tr>\n",
              "      <th>1</th>\n",
              "      <td>1</td>\n",
              "      <td>85</td>\n",
              "      <td>66</td>\n",
              "      <td>29</td>\n",
              "      <td>0</td>\n",
              "      <td>26.6</td>\n",
              "      <td>0.351</td>\n",
              "      <td>31</td>\n",
              "      <td>0</td>\n",
              "    </tr>\n",
              "    <tr>\n",
              "      <th>2</th>\n",
              "      <td>8</td>\n",
              "      <td>183</td>\n",
              "      <td>64</td>\n",
              "      <td>0</td>\n",
              "      <td>0</td>\n",
              "      <td>23.3</td>\n",
              "      <td>0.672</td>\n",
              "      <td>32</td>\n",
              "      <td>1</td>\n",
              "    </tr>\n",
              "    <tr>\n",
              "      <th>3</th>\n",
              "      <td>1</td>\n",
              "      <td>89</td>\n",
              "      <td>66</td>\n",
              "      <td>23</td>\n",
              "      <td>94</td>\n",
              "      <td>28.1</td>\n",
              "      <td>0.167</td>\n",
              "      <td>21</td>\n",
              "      <td>0</td>\n",
              "    </tr>\n",
              "    <tr>\n",
              "      <th>4</th>\n",
              "      <td>0</td>\n",
              "      <td>137</td>\n",
              "      <td>40</td>\n",
              "      <td>35</td>\n",
              "      <td>168</td>\n",
              "      <td>43.1</td>\n",
              "      <td>2.288</td>\n",
              "      <td>33</td>\n",
              "      <td>1</td>\n",
              "    </tr>\n",
              "  </tbody>\n",
              "</table>\n",
              "</div>"
            ],
            "text/plain": [
              "   Pregnancies  Glucose  BloodPressure  SkinThickness  Insulin   BMI  \\\n",
              "0            6      148             72             35        0  33.6   \n",
              "1            1       85             66             29        0  26.6   \n",
              "2            8      183             64              0        0  23.3   \n",
              "3            1       89             66             23       94  28.1   \n",
              "4            0      137             40             35      168  43.1   \n",
              "\n",
              "   DiabetesPedigreeFunction  Age  Outcome  \n",
              "0                     0.627   50        1  \n",
              "1                     0.351   31        0  \n",
              "2                     0.672   32        1  \n",
              "3                     0.167   21        0  \n",
              "4                     2.288   33        1  "
            ]
          },
          "metadata": {},
          "output_type": "display_data"
        }
      ],
      "source": [
        "# ****** your code here ******\n",
        "df = pd.read_csv(\"diabetes.csv\")\n",
        "display(df.head())"
      ]
    },
    {
      "cell_type": "markdown",
      "metadata": {
        "id": "L8e9ULIaRuWH"
      },
      "source": [
        "## Question 1.2 [ _ /6 marks]\n",
        "\n",
        "(1) How many classes are there? How many features are available to predict the outcome?"
      ]
    },
    {
      "cell_type": "markdown",
      "metadata": {
        "id": "QQM3KjRnRuWH"
      },
      "source": [
        "**Your answer**: There are two classes in this data set as there are only two possible outcomes, either 0 or 1. There are eight features available to predict the outcome: pregnancies, glucose, blood pressure, skin thickness, insulin, BMI, diabetes pedigree function, and age."
      ]
    },
    {
      "cell_type": "markdown",
      "metadata": {
        "id": "XsAN7FSzRuWH"
      },
      "source": [
        "(2) Is the dataset class-balanced?"
      ]
    },
    {
      "cell_type": "code",
      "execution_count": 19,
      "metadata": {
        "colab": {
          "base_uri": "https://localhost:8080/"
        },
        "id": "Ed9awSZoRuWH",
        "outputId": "f3650099-ffba-478e-d3b8-c7cf7ebabce3"
      },
      "outputs": [
        {
          "data": {
            "text/plain": [
              "Outcome\n",
              "0    500\n",
              "1    268\n",
              "Name: count, dtype: int64"
            ]
          },
          "execution_count": 19,
          "metadata": {},
          "output_type": "execute_result"
        }
      ],
      "source": [
        "# ****** your code here ******\n",
        "df.Outcome.value_counts()"
      ]
    },
    {
      "cell_type": "markdown",
      "metadata": {
        "id": "I8pkZ_KCRuWH"
      },
      "source": [
        "**Your answer**:\n",
        "No, this dataset is not class-balanced as the number of observations for each of the possible outcomes is not the same. There are 500 counts of 0 and only 268 counts of a 1 outcome."
      ]
    },
    {
      "cell_type": "markdown",
      "metadata": {
        "id": "mp_WB5Z9RuWH"
      },
      "source": [
        "(3) For this classification problem, what is the baseline accuracy and how would you interpret it? Round into 3 decimal place."
      ]
    },
    {
      "cell_type": "code",
      "execution_count": 20,
      "metadata": {
        "colab": {
          "base_uri": "https://localhost:8080/"
        },
        "id": "vfVLF-n2RuWI",
        "outputId": "f0ecdc36-1ca3-4440-f4ec-06bb69c9e805"
      },
      "outputs": [
        {
          "name": "stdout",
          "output_type": "stream",
          "text": [
            "Baseline Accuracy is: 65.104%\n"
          ]
        }
      ],
      "source": [
        "A = df.Outcome[df[\"Outcome\"] == 0].count()\n",
        "B = df.Outcome[df[\"Outcome\"] == 1].count()\n",
        "\n",
        "baseline_accuracy = A/(A+B)\n",
        "print(\"Baseline Accuracy is: \" + str((baseline_accuracy*100).round(3)) + \"%\")"
      ]
    },
    {
      "cell_type": "markdown",
      "metadata": {
        "id": "24qrVbYIzc6m"
      },
      "source": [
        "**Your answer:**\n",
        "The baseline accuracy, rounded to 3 decimal places, is 65.104%. This is the accuracy resulting from a simple prediction and we can compare results from other models to it. On it's own, 65.104% may not mean much, but it serves as a point of reference for the other models we will make."
      ]
    },
    {
      "cell_type": "markdown",
      "metadata": {
        "id": "jIcD9SWJRuWI"
      },
      "source": [
        "## Question 1.3 [ _ /3 marks]\n",
        "\n",
        "Use `train_test_split` with `random_state=0` to split the data into training and test sets. Leave `20%` for testing."
      ]
    },
    {
      "cell_type": "code",
      "execution_count": 21,
      "metadata": {
        "id": "QudJv3uNRuWI"
      },
      "outputs": [],
      "source": [
        "# Store all the features into variable \"X\"\n",
        "X = df.drop(\"Outcome\", axis=\"columns\").values\n",
        "\n",
        "# Store the output class values into variable \"y\"\n",
        "y = df.Outcome.values\n",
        "\n",
        "# Split your X and y data using train_test_split\n",
        "Xtrain, Xtest, ytrain, ytest = train_test_split(X, y, test_size=0.2, random_state=0)"
      ]
    },
    {
      "cell_type": "markdown",
      "metadata": {
        "id": "qOtGq6ayRuWI"
      },
      "source": [
        "## Question 2.1 [ _ /3 marks]\n",
        "\n",
        "We will use sklearn's `LogisticRegression` to solve the classification problem. Before we move on, answer the following questions by reading the [documentation](https://scikit-learn.org/stable/modules/generated/sklearn.linear_model.LogisticRegression.html)."
      ]
    },
    {
      "cell_type": "markdown",
      "metadata": {
        "id": "905VBtclRuWI"
      },
      "source": [
        "\n",
        "(1) Does `LogisticRegression` use a penalty by default?  If yes, what penalty?\n",
        "\n",
        "**Your answer**:\n",
        "Yes, `LogisticRegression` uses a L2 penalty term by default.\n",
        "\n",
        "    \n",
        "(2) If we apply a penalty during learning, what difference do you expect to see in the resulting coefficients (parameters), relative to not applying a penalty during learning?\n",
        "\n",
        "**Your answer**:\n",
        "If we apply a L1 penalty, which takes the sum of the absolute values of the coefficients, we should expect some coefficients to be zero.\n",
        "\n",
        "If we apply a L2 penalty, which uses the sum of the squared coffieicnts, we should expect smaller, but non-zero, coefficients.\n",
        "    \n",
        "(3) If using the default settings of `LogisticRegression`, do you need to include a column of 1s in your feature/design matrix? Briefly explain why or why not.\n",
        "\n",
        "**Your answer**:\n",
        "While using the default setting of `LogisticRegression`, we do not need to include a column of 1s because the default value of `fit_intercept` is true, which will add an intercept to the decision function automatically."
      ]
    },
    {
      "cell_type": "markdown",
      "metadata": {
        "id": "1QZpQ_gGRuWI"
      },
      "source": [
        "## Question 2.2 [ _ /10 marks]\n",
        "\n",
        "Create a `LogisticRegression` model with `penalty=none`. Let's fisrt train and test this classifier using only \"Insulin\" as the input feature. Make a scatter plot of the points. Plot your prediction on the same graph."
      ]
    },
    {
      "cell_type": "code",
      "execution_count": 22,
      "metadata": {
        "colab": {
          "base_uri": "https://localhost:8080/",
          "height": 466
        },
        "id": "5WKYVu0RRuWI",
        "outputId": "82b5e20c-4245-4757-ec21-5a62041cd691"
      },
      "outputs": [
        {
          "data": {
            "text/plain": [
              "Text(0, 0.5, 'Outcomes')"
            ]
          },
          "execution_count": 22,
          "metadata": {},
          "output_type": "execute_result"
        },
        {
          "data": {
            "image/png": "[encoded data removed]",
            "text/plain": [
              "<Figure size 640x480 with 1 Axes>"
            ]
          },
          "metadata": {},
          "output_type": "display_data"
        }
      ],
      "source": [
        "# Create a LogisticRegression model without regularization\n",
        "diabeteslr = LogisticRegression(penalty=None)\n",
        "\n",
        "# Obtain training data and test data\n",
        "X = df[\"Insulin\"].values.reshape(-1, 1)\n",
        "y = df[\"Outcome\"]\n",
        "Xtrain, Xtest, ytrain, ytest = train_test_split(X, y, test_size=0.2, random_state=0)\n",
        "\n",
        "# Fit to your training data using Logistic Regression\n",
        "diabeteslr.fit(Xtrain, ytrain)\n",
        "ytest_prob_2_2 = diabeteslr.predict_proba(Xtest)\n",
        "\n",
        "# Create a scatter plot of the test data.\n",
        "plt.scatter(Xtest, ytest)\n",
        "\n",
        "# Also plot your prediction using sns.lineplot\n",
        "# lineplot needs 1d vector x\n",
        "ypred = diabeteslr.predict(Xtest)\n",
        "sns.lineplot(x=Xtest.flatten(), y=ypred, color=\"red\")\n",
        "plt.xlabel(\"Insulin\")\n",
        "plt.ylabel(\"Outcomes\")\n"
      ]
    },
    {
      "cell_type": "markdown",
      "metadata": {
        "id": "ECzgcKRZRuWI"
      },
      "source": [
        "## Question 2.3 [ _ /10 marks]\n",
        "Evaluate the classification performance using `Accuracy`, `Recall`, `Precision`, `Sensitivity` and `Specificity`."
      ]
    },
    {
      "cell_type": "code",
      "execution_count": 23,
      "metadata": {
        "colab": {
          "base_uri": "https://localhost:8080/"
        },
        "id": "2-ERFJFoRuWI",
        "outputId": "4cd58915-106a-4952-f516-5d21665c5ba0"
      },
      "outputs": [
        {
          "name": "stdout",
          "output_type": "stream",
          "text": [
            "Accuracy: 0.708 \n",
            "Precision: 0.75 \n",
            "Recall: 0.064 \n",
            "Sensitivity: 0.064 \n",
            "Specificity: 0.991\n"
          ]
        }
      ],
      "source": [
        "# You can either write a function or not\n",
        "def compute_performance(yhat, ytest):\n",
        "  tp = sum(np.logical_and((yhat == 1), (ytest == 1)))\n",
        "  tn = sum(np.logical_and((yhat == 0), (ytest == 0)))\n",
        "  fp = sum(np.logical_and((yhat == 1), (ytest == 0)))\n",
        "  fn = sum(np.logical_and((yhat == 0), (ytest == 1)))\n",
        "\n",
        "  # Accuracy\n",
        "  accuracy = (tp + tn) / (tp + tn + fp + fn)\n",
        "\n",
        "  # Precision\n",
        "  precision = tp / (tp + fp)\n",
        "\n",
        "  # Recall\n",
        "  recall = tp / (tp + fn)\n",
        "\n",
        "  # Sensitivity\n",
        "  sensitivity = recall\n",
        "\n",
        "  # Specificity\n",
        "  specificity = tn / (fp + tn)\n",
        "\n",
        "  print(\"Accuracy:\",round(accuracy,3),\"\\nPrecision:\",round(precision,3),\"\\nRecall:\",round(recall,3),\n",
        "            \"\\nSensitivity:\",round(sensitivity,3),\"\\nSpecificity:\",round(specificity,3))\n",
        "\n",
        "yhat = diabeteslr.predict(Xtest)\n",
        "compute_performance(yhat, ytest)"
      ]
    },
    {
      "cell_type": "markdown",
      "metadata": {
        "id": "pA4uWVaZRuWI"
      },
      "source": [
        "## Question 3.1 [ _ /10 marks]\n",
        "\n",
        "Create another `LogisticRegression` model with `penalty=none`. Train and test this classifier with all features and then evaluate the performance."
      ]
    },
    {
      "cell_type": "code",
      "execution_count": 24,
      "metadata": {
        "colab": {
          "base_uri": "https://localhost:8080/"
        },
        "id": "6gfGbz9qRuWI",
        "outputId": "272a2d86-ab28-49f2-d61c-e7dc5ba70201"
      },
      "outputs": [
        {
          "name": "stdout",
          "output_type": "stream",
          "text": [
            "Accuracy: 0.779 \n",
            "Precision: 0.69 \n",
            "Recall: 0.58 \n",
            "Sensitivity: 0.58 \n",
            "Specificity: 0.875\n"
          ]
        }
      ],
      "source": [
        "# Create a LogisticRegression model without regularization\n",
        "diabeteslrNoPenalty = LogisticRegression(penalty=None, max_iter=10000)\n",
        "\n",
        "# Fit to your training data using Logistic Regression\n",
        "X = df.drop(columns=['Outcome'])\n",
        "y = df['Outcome']\n",
        "\n",
        "Xtrain, Xtest, ytrain, ytest = train_test_split(X, y, test_size=0.2)\n",
        "diabeteslrNoPenalty.fit(Xtrain, ytrain)\n",
        "\n",
        "# Compute your test predictions, given test inputs\n",
        "yhat = diabeteslrNoPenalty.predict(Xtest)\n",
        "ytest_prob_3_1 = diabeteslrNoPenalty.predict_proba(Xtest)\n",
        "\n",
        "# Evaluate the performance\n",
        "compute_performance(yhat, ytest)"
      ]
    },
    {
      "cell_type": "markdown",
      "metadata": {
        "id": "r-h_pJ3CRuWI"
      },
      "source": [
        "Does using more features help to improve the classification?\n",
        "\n",
        "**Your answer** :\n",
        "Yes, in this case using more features helps improve the classification as the accuracy, precision, and sensitivity numbers are higher. That means it's overall more correct, there are less false positives better, and a higher ratio of true positives."
      ]
    },
    {
      "cell_type": "markdown",
      "metadata": {
        "id": "LrpUfRafRuWI"
      },
      "source": [
        "## Question 3.2 [ _ /10 marks]\n",
        "Let's adjust the decision threshold from 0.5 (default) to 0.4 and 0.6, and then evlaute the performance."
      ]
    },
    {
      "cell_type": "code",
      "execution_count": 26,
      "metadata": {
        "colab": {
          "base_uri": "https://localhost:8080/"
        },
        "id": "NCKzEwWaRuWI",
        "outputId": "956e3163-eb89-45ef-84cd-0e9e18ddcebf"
      },
      "outputs": [
        {
          "name": "stdout",
          "output_type": "stream",
          "text": [
            "Accuracy: 0.779 \n",
            "Precision: 0.648 \n",
            "Recall: 0.7 \n",
            "Sensitivity: 0.7 \n",
            "Specificity: 0.817\n"
          ]
        }
      ],
      "source": [
        "# Using your classifer from last question, adjust the decision threshold and get the updated predictions\n",
        "threshold = 0.4\n",
        "ytest_prob = diabeteslrNoPenalty.predict_proba(Xtest)\n",
        "\n",
        "# Evaluate the performance\n",
        "yhat = diabeteslrNoPenalty.classes_[(ytest_prob[:,1] > threshold).astype(int)]\n",
        "compute_performance(yhat, ytest)"
      ]
    },
    {
      "cell_type": "code",
      "execution_count": 28,
      "metadata": {
        "colab": {
          "base_uri": "https://localhost:8080/"
        },
        "id": "ivFmYlS9RuWI",
        "outputId": "2a5d4bd3-4831-445a-85fb-76f33b408893"
      },
      "outputs": [
        {
          "name": "stdout",
          "output_type": "stream",
          "text": [
            "Accuracy: 0.786 \n",
            "Precision: 0.73 \n",
            "Recall: 0.54 \n",
            "Sensitivity: 0.54 \n",
            "Specificity: 0.904\n"
          ]
        }
      ],
      "source": [
        "# Using your classifer from last question, adjust the decision threshold and get the updated predictions\n",
        "threshold = 0.6\n",
        "ytest_prob = diabeteslrNoPenalty.predict_proba(Xtest)\n",
        "\n",
        "# Evaluate the performance\n",
        "yhat = diabeteslrNoPenalty.classes_[(ytest_prob[:,1] > threshold).astype(int)]\n",
        "compute_performance(yhat, ytest)"
      ]
    },
    {
      "cell_type": "markdown",
      "metadata": {
        "id": "ES62kJoNRuWI"
      },
      "source": [
        "What do you think is a better threshold?\n",
        "\n",
        "**Your answer**:"
      ]
    },
    {
      "cell_type": "markdown",
      "metadata": {
        "id": "hqFkXF4_RuWI"
      },
      "source": [
        "## Question 3.3 [ _ /10 marks]\n",
        "\n",
        "Create a final `LogisticRegression` model with `penalty=l2`, `C=0.01`. Train and test this classifier with all features and then evaluate the performance."
      ]
    },
    {
      "cell_type": "code",
      "execution_count": null,
      "metadata": {
        "colab": {
          "base_uri": "https://localhost:8080/"
        },
        "id": "Z4TETz7FRuWI",
        "outputId": "bd3dd588-6d70-4f94-9362-1363258563e0"
      },
      "outputs": [
        {
          "name": "stdout",
          "output_type": "stream",
          "text": [
            "Accuracy: 0.74 \n",
            "Precision: 0.63 \n",
            "Recall: 0.558 \n",
            "Sensitivity: 0.558 \n",
            "Specificity: 0.833\n"
          ]
        }
      ],
      "source": [
        "# Create a LogisticRegression model with l2 regularization\n",
        "diabeteslrL2 = LogisticRegression(penalty=\"l2\", C=0.01, max_iter=10000)\n",
        "\n",
        "# Fit to your training data using Logistic Regression\n",
        "X = df.drop(columns=['Outcome'])\n",
        "y = df['Outcome']\n",
        "\n",
        "Xtrain, Xtest, ytrain, ytest = train_test_split(X, y, test_size=0.2)\n",
        "diabeteslrL2.fit(Xtrain, ytrain)\n",
        "\n",
        "# Compute your test predictions, given test inputs\n",
        "yhat = diabeteslrL2.predict(Xtest)\n",
        "ytest_prob_3_3 = diabeteslrL2.predict_proba(Xtest)\n",
        "\n",
        "# Evaluate the performance\n",
        "compute_performance(yhat, ytest, diabeteslrL2.classes_)"
      ]
    },
    {
      "cell_type": "markdown",
      "metadata": {
        "id": "TD7J2O9URuWJ"
      },
      "source": [
        "Does regularization help to improve the classification?\n",
        "\n",
        "**Your answer** :"
      ]
    },
    {
      "cell_type": "markdown",
      "metadata": {
        "id": "Oy8MI9cIRuWJ"
      },
      "source": [
        "## Question 4 [ _ /15 marks]\n",
        "\n",
        "Plot ROC Curves for the classifiers you used in questions 2.2, 3.1, and 3.3. Use AUC to determine which classifier is the best."
      ]
    },
    {
      "cell_type": "code",
      "execution_count": null,
      "metadata": {
        "colab": {
          "base_uri": "https://localhost:8080/",
          "height": 518
        },
        "id": "OGaVJZRBRuWJ",
        "outputId": "695ce045-7c9c-42e1-8535-1cf3a777f241"
      },
      "outputs": [
        {
          "name": "stdout",
          "output_type": "stream",
          "text": [
            "The AUC of the ROC curve is\n",
            "Q2.2: 0.491 \n",
            "Q3.1: 0.463 \n",
            "Q3.3: 0.814\n"
          ]
        },
        {
          "data": {
            "image/png": "[encoded data removed]",
            "text/plain": [
              "<Figure size 640x480 with 1 Axes>"
            ]
          },
          "metadata": {},
          "output_type": "display_data"
        }
      ],
      "source": [
        "# Use roc_curve to get FPR and TPR for each of the 3 classifiers\n",
        "fpr, tpr, _ = roc_curve(ytest, ytest_prob_2_2[:,1])\n",
        "fprNoPenalty, tprNoPenalty, _ = roc_curve(ytest, ytest_prob_3_1[:,1])\n",
        "fprL2, tprL2, _ = roc_curve(ytest, ytest_prob_3_3[:,1])\n",
        "\n",
        "# Plot all of the ROC curves\n",
        "ax = sns.lineplot(x=fpr,y=tpr)\n",
        "ax = sns.lineplot(x=fprNoPenalty,y=tprNoPenalty)\n",
        "ax = sns.lineplot(x=fprL2,y=tprL2)\n",
        "ax.set_xlabel(\"FP Rate\")\n",
        "ax.set_ylabel(\"TP Rate\")\n",
        "\n",
        "# Determine AUC for each of the ROC curves\n",
        "auc2_2 = auc(fpr, tpr).round(3)\n",
        "auc3_1 = auc(fprNoPenalty, tprNoPenalty).round(3)\n",
        "auc3_3 = auc(fprL2, tprL2).round(3)\n",
        "print(\"The AUC of the ROC curve is\\nQ2.2:\", auc2_2, \"\\nQ3.1:\", auc3_1, \"\\nQ3.3:\", auc3_3)"
      ]
    },
    {
      "cell_type": "markdown",
      "metadata": {
        "id": "hGla2duSRuWJ"
      },
      "source": [
        "Which one is the best classifier?\n",
        "\n",
        "**Your answer**:"
      ]
    },
    {
      "cell_type": "markdown",
      "metadata": {
        "id": "k4kKspDVRuWJ"
      },
      "source": [
        "## Question 5 [ _ /10 marks]\n",
        "\n",
        "Multiclass Logistic Regression\n",
        "\n",
        "In the classification lab, we trained a binary LR classifier using the _mnist_ dataset to discriminate entries which were equal to 5 from the rest. Use the same dataset to train a multiclass **Logistic Regression** using the [SGDClassifier](https://scikit-learn.org/stable/modules/generated/sklearn.linear_model.SGDClassifier.html)  with `l2` regularization. So, this time you will have 10 classes, *i.e.*, 0, 1, 2, 3, 4, 5, 6, 7, 8, and 9. For training use `max_iter=2000`, `tol=1e-3`, `random_state=seed`. For some `sklearn` functions you can set argument `n_jobs=N` to run them in parallel and speed up computations. A good value for N can be the number of physical CPU cores that your machine possesses (`N=-1` would use all cores). Check the documentations of the functions to take advantage from this where possible.\n",
        "\n",
        "First load the data and plot a histogram to comment on class distribution qualitatively. For splitting the data into train and test sets, use `test_size=0.5` and `random_state=seed`. What is the balanced accuracy score of your model?"
      ]
    },
    {
      "cell_type": "code",
      "execution_count": null,
      "metadata": {
        "colab": {
          "base_uri": "https://localhost:8080/"
        },
        "id": "Yj8bFcBsRuWJ",
        "outputId": "80ebfa98-4875-42b0-9384-ece7629c3e02"
      },
      "outputs": [
        {
          "name": "stderr",
          "output_type": "stream",
          "text": [
            "/usr/local/lib/python3.10/dist-packages/sklearn/datasets/_openml.py:968: FutureWarning: The default value of `parser` will change from `'liac-arff'` to `'auto'` in 1.4. You can set `parser='auto'` to silence this warning. Therefore, an `ImportError` will be raised from 1.4 if the dataset is dense and pandas is not installed. Note that the pandas parser may return different data types. See the Notes Section in fetch_openml's API doc for details.\n",
            "  warn(\n"
          ]
        }
      ],
      "source": [
        "from sklearn.datasets import fetch_openml\n",
        "from sklearn.metrics import balanced_accuracy_score\n",
        "\n",
        "# Fetch dataset and values\n",
        "mnist = fetch_openml('mnist_784', version=1, as_frame=False)\n",
        "X, y = mnist[\"data\"], mnist[\"target\"]\n",
        "Xtrain, Xtest, ytrain, ytest = train_test_split(X, y, test_size=0.5, random_state=seed)\n",
        "\n",
        "# Plot histogram\n",
        "plt.hist(ytrain)\n",
        "\n",
        "# Split data and fit model\n",
        "sgd_clf = SGDClassifier(max_iter=2000, tol=1e-3, random_state=seed, n_jobs=8)\n",
        "sgd_clf.fit(Xtrain, ytrain)\n",
        "\n",
        "# Calculate balanced accuracy store\n",
        "ypred = sgd_clf.predict(Xtest)\n",
        "score = balanced_accuracy_score(ytest, ypred)\n",
        "print(score.round(3))\n"
      ]
    },
    {
      "cell_type": "markdown",
      "metadata": {
        "id": "k2RJSMbyRuWJ"
      },
      "source": [
        "**Your written answer**:\n",
        "The balanced accuracy score of my model is 0.866."
      ]
    },
    {
      "cell_type": "markdown",
      "metadata": {
        "id": "hvkParNxRuWJ"
      },
      "source": [
        "## Question 6 [ _ /10 marks]\n",
        "\n",
        "Run the cell below to see how well your model can recognize a digit drawn by the mouse cursor. Set the variable `final_model`, run the cell, draw on the pop-up canvas, and once you close the canvas you will see the model's recognition of your input.\n",
        "\n",
        "Despite the cell using your classifier, which has a high balanced accuracy score, it often makes mistakes and its performance seems questionable. Try to explain in words why is that so?\n",
        "\n",
        "Caveat: The cell below will not run on headless servers, you will need to use a local installation of python. You might have some fun until you can get it to work, but that's ok, because I want you to try your hands on technicalities and not always rely on online services."
      ]
    },
    {
      "cell_type": "code",
      "execution_count": null,
      "metadata": {
        "id": "-sRMhwO5RuWJ"
      },
      "outputs": [],
      "source": [
        "final_model=? # use the name of your final model\n",
        "#!pip install tk-tools\n",
        "from tkinter import *\n",
        "import tkinter as tk\n",
        "from PIL import Image\n",
        "import io\n",
        "import matplotlib as mpl\n",
        "\n",
        "temp_file_name=\"TEMP_image_TEMP.jpg\"\n",
        "app = Tk()\n",
        "app.geometry(\"300x300\")\n",
        "canvas = tk.Canvas(app, bg='white')\n",
        "canvas.pack(anchor='nw', fill='both', expand=1)\n",
        "def get_x_and_y(event):\n",
        "    global lasx, lasy\n",
        "    lasx, lasy = event.x, event.y\n",
        "\n",
        "def draw_smth(event):\n",
        "    global lasx, lasy\n",
        "    canvas.create_line((lasx, lasy, event.x, event.y), fill='red', width=4)\n",
        "    lasx, lasy = event.x, event.y\n",
        "    ps = canvas.postscript(colormode = 'color')\n",
        "    img = Image.open(io.BytesIO(ps.encode('utf-8')))\n",
        "    img.save(temp_file_name)\n",
        "\n",
        "canvas.bind(\"<Button-1>\", get_x_and_y)\n",
        "canvas.bind(\"<B1-Motion>\", draw_smth)\n",
        "\n",
        "app.mainloop()\n",
        "img = Image.open(temp_file_name)\n",
        "#resize image to 28x28 pixels\n",
        "img = img.resize((28,28))\n",
        "#convert rgb to grayscale\n",
        "img = img.convert(\"L\")\n",
        "img = np.array(img)\n",
        "img = 255.0 - img\n",
        "plt.imshow(img, cmap = mpl.cm.binary); plt.axis(\"off\")\n",
        "# reshaping to support our model input\n",
        "img = np.reshape(img, 28*28)\n",
        "\n",
        "#predicting the class\n",
        "print('\\nInput recognized as ' + str(final_model.predict([img])[0])+'.')"
      ]
    },
    {
      "cell_type": "markdown",
      "metadata": {
        "id": "8k5vlf9XRuWM"
      },
      "source": [
        "**Your answer**:"
      ]
    }
  ],
  "metadata": {
    "colab": {
      "provenance": []
    },
    "kernelspec": {
      "display_name": "Python 3.8.10 ('my_env')",
      "language": "python",
      "name": "python3"
    },
    "language_info": {
      "codemirror_mode": {
        "name": "ipython",
        "version": 3
      },
      "file_extension": ".py",
      "mimetype": "text/x-python",
      "name": "python",
      "nbconvert_exporter": "python",
      "pygments_lexer": "ipython3",
      "version": "3.9.6"
    },
    "vscode": {
      "interpreter": {
        "hash": "fd9fd915db2e029ec70cf1bf836846dad4f7aef8f0bedb39edb03932a58b544f"
      }
    }
  },
  "nbformat": 4,
  "nbformat_minor": 0
}
